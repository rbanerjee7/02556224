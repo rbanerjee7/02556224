{
 "cells": [
  {
   "cell_type": "code",
   "execution_count": 18,
   "id": "fda2b95b-e981-4e3b-b845-eb20c54ed16a",
   "metadata": {},
   "outputs": [],
   "source": [
    "from braket.tracking import Tracker\n",
    "t = Tracker().start()"
   ]
  },
  {
   "cell_type": "code",
   "execution_count": 19,
   "id": "52ec8cba-cc80-4836-8ed2-42a88af9e5dc",
   "metadata": {},
   "outputs": [
    {
     "data": {
      "text/plain": [
       "[BraketBackend[SV1], BraketBackend[TN1], BraketBackend[dm1]]"
      ]
     },
     "execution_count": 19,
     "metadata": {},
     "output_type": "execute_result"
    }
   ],
   "source": [
    "from qiskit_braket_provider import AWSBraketProvider\n",
    "provider = AWSBraketProvider()\n",
    "provider.backends(statuses=[\"ONLINE\"], types=[\"SIMULATOR\"])"
   ]
  },
  {
   "cell_type": "code",
   "execution_count": 20,
   "id": "782d4966-dad1-4d67-836b-5f5f614541a1",
   "metadata": {},
   "outputs": [
    {
     "data": {
      "text/plain": [
       "[BraketBackend[Aria 1], BraketBackend[Forte 1], BraketBackend[ONLINE]]"
      ]
     },
     "execution_count": 20,
     "metadata": {},
     "output_type": "execute_result"
    }
   ],
   "source": [
    "provider.backends(statuses=[\"ONLINE\"], types=[\"QPU\"])"
   ]
  },
  {
   "cell_type": "code",
   "execution_count": 21,
   "id": "41caf928-e0a9-45a1-86a1-57a425b4d89f",
   "metadata": {},
   "outputs": [],
   "source": [
    "backend = provider.get_backend(\"TN1\")"
   ]
  },
  {
   "cell_type": "code",
   "execution_count": 22,
   "id": "2aa11d32-42d4-4dc1-8a0e-3bf6f31bd54d",
   "metadata": {},
   "outputs": [
    {
     "name": "stdout",
     "output_type": "stream",
     "text": [
      "BraketBackend[TN1]\n"
     ]
    }
   ],
   "source": [
    "print(backend)"
   ]
  },
  {
   "cell_type": "code",
   "execution_count": 23,
   "id": "124bf985",
   "metadata": {},
   "outputs": [],
   "source": [
    "import numpy as np\n",
    "from qiskit_optimization import QuadraticProgram\n",
    "#from qiskit_optimization.translators import from_docplex_mpl\n",
    "from qiskit_optimization.converters import QuadraticProgramToQubo\n",
    "from qiskit_optimization.translators import from_docplex_mp\n",
    "from docplex.mp.model import Model\n",
    "from qiskit_algorithms.utils import algorithm_globals\n",
    "from qiskit_algorithms import QAOA, NumPyMinimumEigensolver\n",
    "from qiskit_algorithms.optimizers import COBYLA\n",
    "from qiskit.primitives import BackendSampler\n",
    "from qiskit_optimization.algorithms import (\n",
    "    MinimumEigenOptimizer,\n",
    "    RecursiveMinimumEigenOptimizer,\n",
    "    SolutionSample,\n",
    "    OptimizationResultStatus,\n",
    ")\n",
    "import matplotlib.pyplot as plt\n",
    "import time"
   ]
  },
  {
   "cell_type": "code",
   "execution_count": 24,
   "id": "b15b59e2-25ee-4eda-bf8e-016eacfbf5c1",
   "metadata": {},
   "outputs": [],
   "source": [
    "sampler = BackendSampler(\n",
    "    backend=backend,\n",
    "    skip_transpilation=False,\n",
    "    options={\"shots\": 100}\n",
    ")"
   ]
  },
  {
   "cell_type": "code",
   "execution_count": 25,
   "id": "0fa58b96",
   "metadata": {},
   "outputs": [],
   "source": [
    "#Number of buses and lines\n",
    "num_buses = 14\n",
    "num_lines = 20\n",
    "\n",
    "#incidence matrix\n",
    "incidence_matrix = np.zeros((num_buses, num_lines))\n",
    "\n",
    "#transmission lines\n",
    "lines = [(1, 2), (1, 5), (2,3), (2,4), (2,5), (3,4),(4,5), (4,7), (4,9), (5,6), (6,11)\n",
    "        ,(6,12), (6,13), (7,8), (7,9), (9,10), (9,14), (10,11), (12,13), (13,14)]\n",
    "\n",
    "for line_idx, (from_bus, to_bus) in enumerate(lines):\n",
    "    incidence_matrix[from_bus - 1, line_idx] = 1  # \"from\" bus\n",
    "    incidence_matrix[to_bus - 1, line_idx] = -1   # \"to\" bus"
   ]
  },
  {
   "cell_type": "code",
   "execution_count": 26,
   "id": "64c61347",
   "metadata": {},
   "outputs": [],
   "source": [
    "Generator_number = [1,2,3,4,5]\n",
    "num_generator = len(Generator_number)\n",
    "#admittance matrix\n",
    "Y = np.zeros((num_buses, num_buses), dtype=complex)\n",
    "\n",
    "# Specified line parameters (example values)\n",
    "specified_lines = lines\n",
    "specified_R = [0.01938, 0.05403, 0.04699, 0.05811, 0.05695, 0.06701, 0.01335, 0, 0, 0, 0.09498, 0.12291\n",
    "              ,0.06615, 0, 0, 0.03181, 0.12711, 0.08205, 0.22092, 0.17093]\n",
    "specified_X = [0.05917, 0.22304, 0.19797, 0.17632, 0.17388, 0.17103, 0.04211, 0.20912, 0.55618, 0.25202\n",
    "              ,0.19890, 0.25581, 0.13027, 0.17615, 0.11001, 0.0845, 0.27038, 0.19207, 0.19988, 0.34802]\n",
    "specified_B = [0.0264, 0.0219, 0.0187, 0.0246, 0.017, 0.0173, 0.0064, 0, 0, 0, 0, 0, 0, 0, 0, 0, 0, 0\n",
    "               , 0, 0]\n",
    "\n",
    "for (i, j), R_ij, X_ij, B_ij in zip(specified_lines, specified_R, specified_X, specified_B):\n",
    "    Z_ij = R_ij + 1j * X_ij\n",
    "    Y_ch_ij = 1j * B_ij\n",
    "    Y[i-1, i-1] += Y_ch_ij\n",
    "    Y[i-1, j-1] -= 1 / Z_ij\n",
    "    Y[j-1, i-1] = np.conj(Y[i-1, j-1])"
   ]
  },
  {
   "cell_type": "code",
   "execution_count": 27,
   "id": "4f2ce4e7",
   "metadata": {},
   "outputs": [],
   "source": [
    "G = np.real(Y)\n",
    "B = np.imag(Y)"
   ]
  },
  {
   "cell_type": "code",
   "execution_count": 28,
   "id": "30d2f5ba-f8ad-4bcd-a63e-c43f2f6cf6ea",
   "metadata": {},
   "outputs": [],
   "source": [
    "theta_ij_matrix = np.zeros((num_buses, num_buses))"
   ]
  },
  {
   "cell_type": "code",
   "execution_count": 29,
   "id": "fb02ac8d",
   "metadata": {},
   "outputs": [],
   "source": [
    "bounds_PG = [(0,332.4), (0, 140), (0, 100), (0, 100), (0, 100)]\n",
    "bounds_PG = [(int(lower), int(upper)) for lower, upper in bounds_PG]\n",
    "bounds_Vi = [(1.0388, 1.0812), (1.0241, 1.0658), (0.9898, 1.0302), (0.9973, 1.0380), (0.9991, 1.03990), (1.0486, 1.0914), (1.0402, 1.0827), (1.0682, 1.1118), (1.0348, 1.0770), (1.0299, 1.0720), (1.0357, 1.0780), (1.0340, 1.0762), (1.0293, 1.0713), (1.0148, 1.0562)]\n",
    "gi_up = [50, 20, 10, 10, 10]\n",
    "a = np.array([0.043, 0.25, 0.01, 0.01, 0.01])\n",
    "a = a.astype(int)\n",
    "b = np.array([20, 20, 40, 40, 40])\n",
    "b = b.astype(int)\n",
    "c = np.array([0, 0, 0, 0, 0])\n",
    "c = c.astype(int)"
   ]
  },
  {
   "cell_type": "code",
   "execution_count": 35,
   "id": "63d8a53f-4ff4-4a1d-8e5c-3fe5c40d0991",
   "metadata": {},
   "outputs": [],
   "source": [
    "def main(N, mode, total_demand, constraint):\n",
    "    start_time = time.time()\n",
    "    def harray(N):\n",
    "        arr = np.zeros(num_generator)\n",
    "        for i in range(num_generator):\n",
    "            arr[i] = np.round((bounds_PG[i][1] - bounds_PG[i][0])/N)\n",
    "        return arr\n",
    "    \n",
    "    mdl = Model(\"DCOPF\")\n",
    "    Nlim = range(0, N)\n",
    "    z_new = [[mdl.binary_var(name=f'znew_{i}_{k}') for k in Nlim] for i in range(num_generator)]\n",
    "    rup = [mdl.binary_var(name=f'rup_{i}') for i in range(num_generator)]\n",
    "    z = [[mdl.binary_var(name=f'z_{i}_{k}') for k in Nlim] for i in range(num_generator)]\n",
    "    n = [mdl.binary_var(name=f'n_{i}') for i in range(num_generator)]\n",
    "    n_new = [mdl.binary_var(name=f'nnew_{i}') for i in range(num_generator)]\n",
    "    \n",
    "    def pi(i):\n",
    "        h_val =  harray(N)[i]\n",
    "        ret = sum((k) * h_val * z[i][k]  for k in Nlim)  \n",
    "        ret = ret + bounds_PG[i][0]\n",
    "        return ret\n",
    "\n",
    "    def pi_new(i):\n",
    "        h_val =  harray(N)[i]\n",
    "        ret = sum((k) * h_val * z_new[i][k]  for k in Nlim)  \n",
    "        ret = ret + bounds_PG[i][0] + (rup[i]*gi_up[i]) - ((1-rup[i])*gi_up[i])\n",
    "        return ret\n",
    "        \n",
    "    def cost():\n",
    "        cost = sum((c[i] * (1-n_new[i]) + b[i] * pi_new(i) + a[i] * pi_new(i)**2) for i in range(num_generator))\n",
    "        return cost\n",
    "\n",
    "    \n",
    "    mdl.minimize(cost())\n",
    "    \n",
    "    mdl.add_constraint(sum(pi_new(i) for i in range(num_generator)) == np.round(total_demand))\n",
    "    \n",
    "    for i in range(num_generator):\n",
    "        mdl.add_constraint(sum(z[i][k]  for k in range(0, N)) + n[i] == 1)\n",
    "        \n",
    "    if constraint == \"on\":\n",
    "        mdl.add_constraint(sum(z_new[0][k] + z_new[1][k] for k in range(0, N)) == 0) #this line will be closed! #transmission line switching constraint!\n",
    "    else: \n",
    "        print(\"No line switching\")\n",
    "        \n",
    "    for i in range(num_generator):\n",
    "        mdl.add_constraint(sum(z_new[i][k]  for k in range(0, N)) + n_new[i] == 1)\n",
    "\n",
    "    mdl.add_constraint(sum(pi(i) for i in range(num_generator)) == np.round(total_demand))\n",
    "    \n",
    "    qp = from_docplex_mp(mdl)\n",
    "\n",
    "    qp_to_qubo = QuadraticProgramToQubo()\n",
    "    qubo = qp_to_qubo.convert(qp)\n",
    "    \n",
    "    op, offset = qubo.to_ising()\n",
    "\n",
    "    \n",
    "    algorithm_globals.random_seed = 10598\n",
    "\n",
    "    qaoa_mes = QAOA(sampler=sampler, reps =1, optimizer=COBYLA(), initial_point=[0.0, 0.0])\n",
    "    exact_mes = NumPyMinimumEigensolver()\n",
    "\n",
    "    if mode == \"classical\":\n",
    "        exact = MinimumEigenOptimizer(exact_mes)\n",
    "        result = exact.solve(qubo)\n",
    "        print(\"!!!This is Classical result!!!\")\n",
    "\n",
    "    elif mode == \"quantum\":\n",
    "        qaoa = MinimumEigenOptimizer(qaoa_mes)\n",
    "        result = qaoa.solve(qubo)\n",
    "        print(\"!!!This is Quantum result!!!\")\n",
    "    else:\n",
    "        print(\"enter a valid mode!!!\")\n",
    "        \n",
    "    Nlim = range(0,N)\n",
    "    \n",
    "    exact_result = result\n",
    "    print(exact_result)\n",
    "\n",
    "    \n",
    "    k = 0\n",
    "    i = 0\n",
    "    Nlim = range(0,N)\n",
    "    zik = np.zeros((num_generator, len(Nlim)))\n",
    "    for j in range(num_generator * len(Nlim)):\n",
    "        zik[i][k] = exact_result[j]\n",
    "        if k == Nlim[-1]:\n",
    "            i += 1 \n",
    "            k = 0\n",
    "        else:\n",
    "            k += 1\n",
    "\n",
    "    \n",
    "    ruplim = range(num_generator * len(Nlim), (num_generator * len(Nlim))+num_generator)\n",
    "    rup = np.zeros(num_generator)\n",
    "    k = 0\n",
    "    for i in ruplim:\n",
    "        rup[k] = exact_result[i]\n",
    "        k += 1\n",
    "    print('ramp up=',rup)\n",
    "\n",
    "    i = 0\n",
    "    k = 0\n",
    "    Nlim = range(0,N)\n",
    "    zikoldrange = range((num_generator * len(Nlim))+num_generator, (num_generator * len(Nlim))+num_generator+num_generator * len(Nlim))\n",
    "    zikold = np.zeros((num_generator, len(Nlim)))\n",
    "            \n",
    "    for j in zikoldrange:\n",
    "        zikold[i][k] = exact_result[j]\n",
    "        if k == Nlim[-1]:\n",
    "            i += 1 \n",
    "            k = 0\n",
    "        else:\n",
    "            k += 1\n",
    "\n",
    "    fold = np.zeros((num_generator, len(Nlim)))\n",
    "    def fold_pi(l,n):       \n",
    "        h_val =  harray(N)[l]\n",
    "        h_val =  h_val\n",
    "        return (n) * h_val * zikold[l][n]  \n",
    "\n",
    "    for i in range(num_generator):\n",
    "        for j in Nlim:\n",
    "            fold[i][j] = fold_pi(i,j)\n",
    "    #print(fold)\n",
    "    result_old = np.zeros(num_generator)\n",
    "    \n",
    "    for i in range(num_generator):\n",
    "        result_old[i] = sum(fold[i][k] for k in Nlim)\n",
    "\n",
    "    fpi = np.zeros((num_generator, len(Nlim)))\n",
    "    def final_pi(l,n):       \n",
    "        h_val =  harray(N)[l]\n",
    "        h_val =  h_val + (rup[l] * gi_up[l]) - ((1-rup[l]) * gi_up[l])\n",
    "        return (n) * h_val * zik[l][n]  \n",
    "\n",
    "    \n",
    "    for i in range(num_generator):\n",
    "        for j in Nlim:\n",
    "            fpi[i][j] = final_pi(i,j)\n",
    "    #print(fpi)\n",
    "    \n",
    "    result_pi = np.zeros(num_generator)\n",
    "    for i in range(num_generator):\n",
    "        result_pi[i] = sum(fpi[i][k] for k in Nlim)\n",
    "\n",
    "    generator_status = np.empty(num_generator, dtype=object)\n",
    "    \n",
    "    for i in range(num_generator):\n",
    "        if result_pi[i] == 0:\n",
    "            generator_status[i] = \"inactive\"\n",
    "        else:\n",
    "            generator_status[i] = \"active\"\n",
    "            \n",
    "    active_generators = [i + 1 for i, status in enumerate(generator_status) if status == 'active']\n",
    "    print(\"generator status\", generator_status)\n",
    "\n",
    "    for line in lines:\n",
    "        if line[0] in active_generators and line[1] in active_generators:\n",
    "            print(f\"Line {line} is active\")\n",
    "    \n",
    "    for i in range(num_generator):\n",
    "        print(\"The power generated by power plant\", i + 1, \"is\", result_pi[i],\"MWh\")\n",
    "    print(\"total power generated is \", sum(result_pi[i] for i in range(num_generator)), \"MWh, and the demand is\", total_demand,\"MWh\")\n",
    "    print(\"total power generated in old case \", sum(result_old[i] for i in range(num_generator)), \"MWh, and the demand is\", total_demand,\"MWh\")\n",
    "\n",
    "    def total_cost():\n",
    "        return sum(a[i] *  result_pi[i]**2 + b[i] *  result_pi[i] + c[i] for i in range(num_generator))\n",
    "\n",
    "    def old_cost():\n",
    "        return sum(a[i] *  result_old[i]**2 + b[i] *  result_old[i] + c[i] for i in range(num_generator))\n",
    "        \n",
    "    print(\"the total cost is\", total_cost())\n",
    "    print(\"the old cost is\", old_cost())\n",
    "    end_time = time.time()\n",
    "    elapsed_time = end_time - start_time\n",
    "    print(f\"Time taken: {np.round(elapsed_time,2)} seconds\")    \n",
    "    \n",
    "\n",
    "    bar_width = 0.35\n",
    "    plt.bar(Generator_number, result_pi, width = bar_width, alpha = 0.5, label='new')\n",
    "    plt.bar(Generator_number, result_old, width = bar_width, alpha = 0.5, label='old')\n",
    "    plt.xticks(Generator_number)\n",
    "    plt.xlabel('Generator Number')\n",
    "    plt.ylabel('Results')\n",
    "    plt.title('Comparison of new and old results')\n",
    "    plt.legend()\n",
    "    \n",
    "    return"
   ]
  },
  {
   "cell_type": "code",
   "execution_count": 36,
   "id": "47f143ac-2a0d-4669-9c96-6d4b2c59089f",
   "metadata": {},
   "outputs": [
    {
     "name": "stderr",
     "output_type": "stream",
     "text": [
      "C:\\Users\\Muthumanimaran\\AppData\\Roaming\\Python\\Python312\\site-packages\\qiskit_braket_provider\\providers\\adapter.py:438: UserWarning: The Qiskit circuit contains barrier instructions that are ignored.\n",
      "  warnings.warn(\n"
     ]
    },
    {
     "name": "stdout",
     "output_type": "stream",
     "text": [
      "!!!This is Quantum result!!!\n",
      "fval=2281903.0, znew_0_0=0.0, znew_0_1=0.0, znew_1_0=0.0, znew_1_1=1.0, znew_2_0=1.0, znew_2_1=0.0, znew_3_0=0.0, znew_3_1=1.0, znew_4_0=0.0, znew_4_1=0.0, rup_0=1.0, rup_1=1.0, rup_2=0.0, rup_3=1.0, rup_4=1.0, z_0_0=0.0, z_0_1=1.0, z_1_0=0.0, z_1_1=0.0, z_2_0=1.0, z_2_1=1.0, z_3_0=1.0, z_3_1=0.0, z_4_0=1.0, z_4_1=0.0, n_0=0.0, n_1=1.0, n_2=0.0, n_3=1.0, n_4=1.0, nnew_0=1.0, nnew_1=1.0, nnew_2=0.0, nnew_3=1.0, nnew_4=0.0, status=SUCCESS\n",
      "ramp up= [1. 1. 0. 1. 1.]\n",
      "generator status ['inactive' 'active' 'inactive' 'active' 'inactive']\n",
      "Line (2, 4) is active\n",
      "The power generated by power plant 1 is 0.0 MWh\n",
      "The power generated by power plant 2 is 90.0 MWh\n",
      "The power generated by power plant 3 is 0.0 MWh\n",
      "The power generated by power plant 4 is 60.0 MWh\n",
      "The power generated by power plant 5 is 0.0 MWh\n",
      "total power generated is  150.0 MWh, and the demand is 206 MWh\n",
      "total power generated in old case  216.0 MWh, and the demand is 206 MWh\n",
      "the total cost is 4200.0\n",
      "the old cost is 5320.0\n",
      "Time taken: 734.55 seconds\n"
     ]
    },
    {
     "data": {
      "image/png": "[encoded data removed]",
      "text/plain": [
       "<Figure size 640x480 with 1 Axes>"
      ]
     },
     "metadata": {},
     "output_type": "display_data"
    }
   ],
   "source": [
    "N = 2\n",
    "demand = 206\n",
    "#run this block, N is number of bins, \"classical\" for classical solution, \"quantum\" for quantum solution, demand from generators, line switching on or off\n",
    "main(N, \"quantum\", demand, \"on\")"
   ]
  },
  {
   "cell_type": "code",
   "execution_count": 18,
   "id": "36aaaaec-1ca5-43b3-96f9-3418cef05ce2",
   "metadata": {},
   "outputs": [
    {
     "name": "stdout",
     "output_type": "stream",
     "text": [
      "Quantum Task Summary\n",
      "{'arn:aws:braket:::device/quantum-simulator/amazon/tn1': {'shots': 5400, 'tasks': {'COMPLETED': 54}, 'execution_duration': datetime.timedelta(seconds=999, microseconds=959000), 'billed_execution_duration': datetime.timedelta(seconds=999, microseconds=959000)}}\n",
      "Note: Charges shown are estimates based on your Amazon Braket simulator and quantum processing unit (QPU) task usage. Estimated charges shown may differ from your actual charges. Estimated charges do not factor in any discounts or credits, and you may experience additional charges based on your use of other services such as Amazon Elastic Compute Cloud (Amazon EC2).\n",
      "Estimated cost to run this example: 4.58 USD\n"
     ]
    }
   ],
   "source": [
    "print(\"Quantum Task Summary\")\n",
    "print(t.quantum_tasks_statistics())\n",
    "print('Note: Charges shown are estimates based on your Amazon Braket simulator and quantum processing unit (QPU) task usage. Estimated charges shown may differ from your actual charges. Estimated charges do not factor in any discounts or credits, and you may experience additional charges based on your use of other services such as Amazon Elastic Compute Cloud (Amazon EC2).')\n",
    "print(f\"Estimated cost to run this example: {t.qpu_tasks_cost() + t.simulator_tasks_cost():.2f} USD\")"
   ]
  },
  {
   "cell_type": "code",
   "execution_count": null,
   "id": "f5d1afaf-e4e6-4383-a48c-3f12208979d9",
   "metadata": {},
   "outputs": [],
   "source": []
  }
 ],
 "metadata": {
  "kernelspec": {
   "display_name": "Python 3 (ipykernel)",
   "language": "python",
   "name": "python3"
  },
  "language_info": {
   "codemirror_mode": {
    "name": "ipython",
    "version": 3
   },
   "file_extension": ".py",
   "mimetype": "text/x-python",
   "name": "python",
   "nbconvert_exporter": "python",
   "pygments_lexer": "ipython3",
   "version": "3.12.2"
  }
 },
 "nbformat": 4,
 "nbformat_minor": 5
}
