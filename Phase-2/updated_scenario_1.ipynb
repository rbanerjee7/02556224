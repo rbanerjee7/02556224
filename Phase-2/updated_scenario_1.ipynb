{
 "cells": [
  {
   "cell_type": "code",
   "execution_count": 35,
   "id": "912a33c7-9b9d-4d59-8c20-7f5ff71c6046",
   "metadata": {},
   "outputs": [],
   "source": [
    "from braket.tracking import Tracker\n",
    "t = Tracker().start()"
   ]
  },
  {
   "cell_type": "code",
   "execution_count": 36,
   "id": "505a58fe-4c75-4b55-bef8-0035dcdb9fdb",
   "metadata": {},
   "outputs": [
    {
     "data": {
      "text/plain": [
       "[BraketBackend[SV1], BraketBackend[TN1], BraketBackend[dm1]]"
      ]
     },
     "execution_count": 36,
     "metadata": {},
     "output_type": "execute_result"
    }
   ],
   "source": [
    "from qiskit_braket_provider import AWSBraketProvider\n",
    "provider = AWSBraketProvider()\n",
    "provider.backends(statuses=[\"ONLINE\"], types=[\"SIMULATOR\"])"
   ]
  },
  {
   "cell_type": "code",
   "execution_count": 37,
   "id": "384f5711-05b8-4124-978b-55ee40598987",
   "metadata": {},
   "outputs": [
    {
     "data": {
      "text/plain": [
       "[BraketBackend[Forte 1], BraketBackend[Lucy]]"
      ]
     },
     "execution_count": 37,
     "metadata": {},
     "output_type": "execute_result"
    }
   ],
   "source": [
    "provider.backends(statuses=[\"ONLINE\"], types=[\"QPU\"])"
   ]
  },
  {
   "cell_type": "code",
   "execution_count": 38,
   "id": "4fe8d412-a8e2-4239-a6ee-b8d58b8d791b",
   "metadata": {},
   "outputs": [],
   "source": [
    "backend = provider.get_backend(\"TN1\")"
   ]
  },
  {
   "cell_type": "code",
   "execution_count": 39,
   "id": "d6b7aa5e-d060-4c15-8d07-4a2046a7619f",
   "metadata": {},
   "outputs": [
    {
     "name": "stdout",
     "output_type": "stream",
     "text": [
      "BraketBackend[TN1]\n"
     ]
    }
   ],
   "source": [
    "print(backend)"
   ]
  },
  {
   "cell_type": "code",
   "execution_count": 40,
   "id": "124bf985",
   "metadata": {},
   "outputs": [],
   "source": [
    "import numpy as np\n",
    "from qiskit_optimization import QuadraticProgram\n",
    "from qiskit_optimization.converters import QuadraticProgramToQubo\n",
    "from qiskit_optimization.translators import from_docplex_mp\n",
    "from docplex.mp.model import Model\n",
    "from qiskit_algorithms.utils import algorithm_globals\n",
    "from qiskit_algorithms import QAOA, NumPyMinimumEigensolver\n",
    "from qiskit_algorithms.optimizers import COBYLA\n",
    "from qiskit.primitives import BackendSampler\n",
    "from qiskit.circuit.library import QAOAAnsatz\n",
    "\n",
    "from qiskit_optimization.algorithms import (\n",
    "    MinimumEigenOptimizer,\n",
    "    RecursiveMinimumEigenOptimizer,\n",
    "    SolutionSample,\n",
    "    OptimizationResultStatus,\n",
    ")\n",
    "import matplotlib.pyplot as plt\n",
    "import time\n",
    "from qiskit import QuantumCircuit, transpile, assemble"
   ]
  },
  {
   "cell_type": "code",
   "execution_count": 41,
   "id": "0fa58b96",
   "metadata": {},
   "outputs": [],
   "source": [
    "#Number of buses and lines\n",
    "num_buses = 14\n",
    "num_lines = 20\n",
    "\n",
    "#incidence matrix\n",
    "incidence_matrix = np.zeros((num_buses, num_lines))\n",
    "\n",
    "#transmission lines\n",
    "lines = [(1, 2), (1, 5), (2,3), (2,4), (2,5), (3,4),(4,5), (4,7), (4,9), (5,6), (6,11)\n",
    "        ,(6,12), (6,13), (7,8), (7,9), (9,10), (9,14), (10,11), (12,13), (13,14)]\n",
    "\n",
    "for line_idx, (from_bus, to_bus) in enumerate(lines):\n",
    "    incidence_matrix[from_bus - 1, line_idx] = 1  # \"from\" bus\n",
    "    incidence_matrix[to_bus - 1, line_idx] = -1   # \"to\" bus"
   ]
  },
  {
   "cell_type": "code",
   "execution_count": 42,
   "id": "883be6c6-0558-43a9-92ed-dd8a17231e1d",
   "metadata": {},
   "outputs": [],
   "source": [
    "destinations = [11, 12, 13]\n",
    "demands = {12: 40, 13: 30, 14: 30}\n",
    "line_capacities = {(1, 2): 100, (1, 5): 100, (2, 3): 100, (2, 4): 100, (2, 5): 100,\n",
    "                   (3, 4): 100, (4, 5): 100, (4, 7): 100, (4, 9): 100, (5, 6): 100,\n",
    "                   (6, 11): 100, (6, 12): 100, (6, 13): 100, (7, 8): 100, (7, 9): 100,\n",
    "                   (9, 10): 100, (9, 14): 100, (10, 11): 100, (12, 13): 100, (14, 13): 100}"
   ]
  },
  {
   "cell_type": "code",
   "execution_count": 43,
   "id": "64c61347",
   "metadata": {},
   "outputs": [],
   "source": [
    "num_buses = num_buses\n",
    "Generator_number = [1,2,3,4,5]\n",
    "num_generator = len(Generator_number)\n",
    "#admittance matrix\n",
    "Y = np.zeros((num_buses, num_buses), dtype=complex)\n",
    "\n",
    "# Specified line parameters (example values)\n",
    "specified_lines = lines\n",
    "specified_R = [0.01938, 0.05403, 0.04699, 0.05811, 0.05695, 0.06701, 0.01335, 0, 0, 0, 0.09498, 0.12291\n",
    "              ,0.06615, 0, 0, 0.03181, 0.12711, 0.08205, 0.22092, 0.17093]\n",
    "specified_X = [0.05917, 0.22304, 0.19797, 0.17632, 0.17388, 0.17103, 0.04211, 0.20912, 0.55618, 0.25202\n",
    "              ,0.19890, 0.25581, 0.13027, 0.17615, 0.11001, 0.0845, 0.27038, 0.19207, 0.19988, 0.34802]\n",
    "specified_B = [0.0264, 0.0219, 0.0187, 0.0246, 0.017, 0.0173, 0.0064, 0, 0, 0, 0, 0, 0, 0, 0, 0, 0, 0\n",
    "               , 0, 0]\n",
    "\n",
    "for (i, j), R_ij, X_ij, B_ij in zip(specified_lines, specified_R, specified_X, specified_B):\n",
    "    Z_ij = R_ij + 1j * X_ij\n",
    "    Y_ch_ij = 1j * B_ij\n",
    "    Y[i-1, i-1] += Y_ch_ij\n",
    "    Y[i-1, j-1] -= 1 / Z_ij\n",
    "    Y[j-1, i-1] = np.conj(Y[i-1, j-1])"
   ]
  },
  {
   "cell_type": "code",
   "execution_count": 44,
   "id": "9a9395e9-63db-490d-a345-c982941d5533",
   "metadata": {},
   "outputs": [],
   "source": [
    "line_resistances = {lines[i]: specified_R[i] for i in range(len(lines))}\n",
    "line_costs = {(1, 2): 20, (1, 5): 10, (2, 3): 50, (2, 4): 10, (2, 5): 5,\n",
    "              (3, 4): 45, (4, 5): 20, (4, 7): 20, (4, 9): 40, (5, 6): 10,\n",
    "              (6, 11): 10, (6, 12): 20, (6, 13): 10, (7, 8): 30, (7, 9): 20,\n",
    "              (9, 10): 20, (9, 14): 10, (10, 11): 10, (12, 13): 10, (13, 14): 20}"
   ]
  },
  {
   "cell_type": "code",
   "execution_count": 45,
   "id": "4f2ce4e7",
   "metadata": {},
   "outputs": [],
   "source": [
    "G = np.real(Y)\n",
    "B = np.imag(Y)"
   ]
  },
  {
   "cell_type": "code",
   "execution_count": 46,
   "id": "dc84bae6",
   "metadata": {},
   "outputs": [],
   "source": [
    "V_magnitudes = [1.06, 1.045, 1.01, 1.01767, 1.01951, 1.07000, 1.06152, 1.09000, 1.05593, 1.05099, 1.05691\n",
    "               ,1.05519, 1.05038, 1.03558]  # Example magnitudes for buses 1, 2, 3\n",
    "theta_angles_degrees = [0, -4.9826, -12.725, -10.3128, -8.7738, -14.2209, -13.3596, -13.3596, -14.9385\n",
    "                       ,-15.0972, -14.7906, -15.0755, -15.1562, -16.0336]  # Example phase angles in degrees for buses 1, 2, 3\n",
    "\n",
    "theta_angles = np.deg2rad(theta_angles_degrees)\n",
    "\n",
    "real_v = np.zeros(len(V_magnitudes))\n",
    "imaginary_v = np.zeros(len(V_magnitudes))\n",
    "\n",
    "for i in range(len(V_magnitudes)):\n",
    "    real_v[i] = V_magnitudes[i] * np.cos(theta_angles[i])\n",
    "    imaginary_v[i] = V_magnitudes[i] * np.sin(theta_angles[i])"
   ]
  },
  {
   "cell_type": "code",
   "execution_count": 47,
   "id": "30d2f5ba-f8ad-4bcd-a63e-c43f2f6cf6ea",
   "metadata": {},
   "outputs": [],
   "source": [
    "theta_ij_matrix = np.zeros((num_buses, num_buses))"
   ]
  },
  {
   "cell_type": "code",
   "execution_count": 48,
   "id": "fb02ac8d",
   "metadata": {},
   "outputs": [],
   "source": [
    "PD = [30, 100, 120, 120]\n",
    "demand = sum(PD)\n",
    "\n",
    "bounds_PG = [(0,332.4), (0, 140), (0, 100), (0, 100), (0, 100)]\n",
    "\n",
    "bounds_Vi = [(1.0388, 1.0812), (1.0241, 1.0658), (0.9898, 1.0302), (0.9973, 1.0380), (0.9991, 1.03990), (1.0486, 1.0914), (1.0402, 1.0827), (1.0682, 1.1118), (1.0348, 1.0770), (1.0299, 1.0720), (1.0357, 1.0780), (1.0340, 1.0762), (1.0293, 1.0713), (1.0148, 1.0562)]\n",
    "gi_up = [50, 20, 10, 10, 10]\n",
    "gi_down = [-50, -20, -10, -10, -10]\n",
    "a = np.array([0.043, 0.25, 0.01, 0.01, 0.01])\n",
    "a = a.astype(int)\n",
    "b = np.array([20, 20, 40, 40, 40])\n",
    "b = b.astype(int)\n",
    "c = np.array([0, 0, 0, 0, 0])\n",
    "c = c.astype(int)"
   ]
  },
  {
   "cell_type": "code",
   "execution_count": 53,
   "id": "be51bb43-e999-4a63-aaac-0fc47fd4b4b3",
   "metadata": {},
   "outputs": [],
   "source": [
    "sampler = BackendSampler(\n",
    "    backend=backend,\n",
    "    skip_transpilation=False,\n",
    "    options={\"shots\": 200}\n",
    ")"
   ]
  },
  {
   "cell_type": "code",
   "execution_count": 54,
   "id": "9e9fcfbd-2b08-4d24-b112-3e50d3a64558",
   "metadata": {},
   "outputs": [],
   "source": [
    "def main(N, total_demand, mode):\n",
    "    start_time = time.time()\n",
    "    def harray(N):\n",
    "        arr = np.zeros(num_generator)\n",
    "        for i in range(num_generator):\n",
    "            arr[i] = np.round((bounds_PG[i][1] - bounds_PG[i][0])/N)\n",
    "        return arr\n",
    "    \n",
    "    mdl = Model(\"DCOPF\")\n",
    "    Nlim = range(0, N)\n",
    "    z = [[mdl.binary_var(name=f'z_{i}_{k}') for k in Nlim] for i in range(num_generator)]\n",
    "    v = [mdl.binary_var(name=f'v_{i}') for i in range(num_generator)]\n",
    "    \n",
    "    \n",
    "    def pi(i):\n",
    "        h_val =  harray(N)[i]\n",
    "        ret = sum((k) * h_val * z[i][k]  for k in Nlim)  \n",
    "        ret = ret + bounds_PG[i][0]\n",
    "        return ret\n",
    "    \n",
    "    \n",
    "    def cost():\n",
    "        cost = sum((c[i] * (1-v[i]) + b[i] * pi(i) + a[i] * pi(i)*pi(i)) for i in range(num_generator))\n",
    "        return cost\n",
    "    \n",
    "    \n",
    "    mdl.minimize(cost())\n",
    "    mdl.add_constraint(sum(pi(i) for i in range(num_generator)) == np.round(total_demand))\n",
    "    for i in range(num_generator):\n",
    "        mdl.add_constraint(sum(z[i][k]  for k in range(0, N)) + v[i]== 1)\n",
    "    #print(mdl.export_to_string())\n",
    "    \n",
    "    qp = from_docplex_mp(mdl)\n",
    "    #print(type(qp))\n",
    "    #print()\n",
    "    #print(mdl.prettyprint())\n",
    "    \n",
    "    qp_to_qubo = QuadraticProgramToQubo()\n",
    "    qubo = qp_to_qubo.convert(qp)\n",
    "    \n",
    "    hamiltonian, offset = qubo.to_ising()\n",
    "    #print(\"offset: {}\".format(offset))\n",
    "    #print(\"operator:\")\n",
    "    #print(hamiltonian)\n",
    "\n",
    "    algorithm_globals.random_seed = 10598\n",
    "    qaoa_mes = QAOA(sampler=sampler, reps =1, optimizer=COBYLA(), initial_point=[0.0, 0.0])\n",
    "    exact_mes = NumPyMinimumEigensolver()\n",
    "\n",
    "    if mode == \"classical\":\n",
    "        exact = MinimumEigenOptimizer(exact_mes)\n",
    "        result = exact.solve(qubo)\n",
    "        print(\"!!!This is Classical result!!!\")\n",
    "\n",
    "    elif mode == \"quantum\":\n",
    "        qaoa = MinimumEigenOptimizer(qaoa_mes)\n",
    "        result = qaoa.solve(qubo)\n",
    "        print(\"!!!This is Quantum result!!!\")\n",
    "    else:\n",
    "        print(\"enter a valid mode!!!\")\n",
    "        \n",
    "    Nlim = range(0,N)\n",
    "    \n",
    "    exact_result = result\n",
    "\n",
    "    k = 0\n",
    "    i = 0\n",
    "    Nlim = range(0,N)\n",
    "    zik = np.zeros((num_generator, len(Nlim)))\n",
    "    for j in range(num_generator * len(Nlim)):\n",
    "        zik[i][k] = exact_result[j]\n",
    "        if k == Nlim[-1]:\n",
    "            i += 1 \n",
    "            k = 0\n",
    "        else:\n",
    "            k += 1\n",
    "    \n",
    "    fpi = np.zeros((num_generator, len(Nlim)))\n",
    "    def final_pi(l,n):       \n",
    "        h_val =  harray(N)[l]\n",
    "        return (n) * h_val *zik[l][n]\n",
    "    \n",
    "    \n",
    "    for i in range(num_generator):\n",
    "        for j in Nlim:\n",
    "            fpi[i][j] = final_pi(i,j)\n",
    "    \n",
    "    result_pi = np.zeros(num_generator)\n",
    "    for i in range(num_generator):\n",
    "        result_pi[i] = sum(fpi[i][k] for k in Nlim)\n",
    "    \n",
    "    generator_status = np.empty(num_generator, dtype=object)\n",
    "    \n",
    "    for i in range(num_generator):\n",
    "        if result_pi[i] == 0:\n",
    "            generator_status[i] = \"inactive\"\n",
    "        else:\n",
    "            generator_status[i] = \"active\"\n",
    "            \n",
    "    active_generators = [i + 1 for i, status in enumerate(generator_status) if status == 'active']\n",
    "    print(\"generator status\", generator_status)\n",
    "    \n",
    "    qp2 = QuadraticProgram()\n",
    "\n",
    "    # Set to keep track of added variables\n",
    "    added_variables = set()\n",
    "    \n",
    "    # Add binary variables\n",
    "    for (i, j) in lines:\n",
    "        variable_name = f'y_{i}_{j}'\n",
    "        if variable_name not in added_variables:\n",
    "            qp2.binary_var(variable_name)\n",
    "            added_variables.add(variable_name)\n",
    "    \n",
    "    # Add the objective function: minimize total cost + total power losses\n",
    "    for (i, j) in lines:\n",
    "        variable_name = f'y_{i}_{j}'\n",
    "        if variable_name not in added_variables:\n",
    "            qp2.minimize(line_costs[(i, j)] * qp.binary_var(variable_name))\n",
    "            added_variables.add(variable_name)\n",
    "    \n",
    "    # Add flow conservation constraints\n",
    "    for g in Generator_number + destinations:\n",
    "        constraint_vars = {f'y_{i}_{j}': 1 for (i, j) in lines if i == g}\n",
    "        qp2.linear_constraint(linear=constraint_vars, sense='==', rhs=1)\n",
    "\n",
    "    #qp2.linear_constraint(linear={'y_1_2': 1}, sense='==', rhs=0)\n",
    "    \n",
    "    # Add demand satisfaction constraints considering losses\n",
    "    for dest in destinations:\n",
    "        for (i, j) in lines:\n",
    "            if j == dest:\n",
    "                variable_name = f'y_{i}_{j}'\n",
    "                if variable_name not in added_variables:\n",
    "                    qp2.linear_constraint(linear={variable_name: line_capacities[(i, j)] - line_resistances[lines.index((i, j))] * qp2.binary_var(variable_name)},\n",
    "                                         sense='>=',\n",
    "                                         rhs=demands[dest])\n",
    "\n",
    "    \n",
    "    # Convert to QUBO\n",
    "    converter = QuadraticProgramToQubo()\n",
    "    qubo2 = converter.convert(qp2)\n",
    "    \n",
    "    if mode == \"classical\":\n",
    "        exact = MinimumEigenOptimizer(exact_mes)\n",
    "        topology = exact.solve(qubo2)\n",
    "        print(\"!!!This is Classical result!!!\")\n",
    "\n",
    "    elif mode == \"quantum\":\n",
    "        qaoa2 = MinimumEigenOptimizer(qaoa_mes)\n",
    "        topology = qaoa.solve(qubo2)\n",
    "        print(\"!!!This is Quantum result!!!\")\n",
    "    else:\n",
    "        print(\"enter a valid mode!!!\")\n",
    "\n",
    "\n",
    "    # Extract the values of binary variables\n",
    "    binary_solution = topology.x\n",
    "\n",
    "    \n",
    "    # Initialize total cost\n",
    "    total_line_cost = 0\n",
    "    \n",
    "    # List to store active lines\n",
    "    active_lines = []\n",
    "    \n",
    "    # Iterate through binary solution and check for active lines\n",
    "    for idx, val in enumerate(binary_solution):\n",
    "        if val == 1:\n",
    "            active_lines.append(lines[idx])\n",
    "            total_line_cost += line_costs[lines[idx]]\n",
    "    \n",
    "    # Print active lines\n",
    "    print(\"Active Lines:\")\n",
    "    for line in active_lines:\n",
    "        print(line)\n",
    "\n",
    "\n",
    "    \n",
    "    def demand():\n",
    "        return sum(PDi[i] for i in range(num_generator))\n",
    "    for i in range(num_generator):\n",
    "        print(\"The power generated by power plant\", i + 1, \"is\", result_pi[i],\"MWh\")\n",
    "    print(\"total power generated is \", sum(result_pi[i] for i in range(num_generator)), \"MWh, and the demand is\", total_demand,\"MWh\")\n",
    "    \n",
    "    def total_cost():\n",
    "        return sum(a[i] *  result_pi[i]**2 + b[i] *  result_pi[i] + c[i] for i in range(num_generator))\n",
    "        \n",
    "    print(\"the total cost is\", total_cost() + total_line_cost)\n",
    "    end_time = time.time()\n",
    "    elapsed_time = end_time - start_time\n",
    "    print(f\"Time taken: {np.round(elapsed_time,2)} seconds\")    \n",
    "    \n",
    "    plt.bar(Generator_number, result_pi)\n",
    "    plt.xticks(Generator_number)\n",
    "    plt.xlabel('Generator')\n",
    "    plt.ylabel('Power Generated (MWh)')\n",
    "    plt.title('Power Generated by Each Power Plant')\n",
    "    plt.show()\n",
    "\n",
    "    return "
   ]
  },
  {
   "cell_type": "code",
   "execution_count": 58,
   "id": "ef29f9fb-f389-43e5-81b2-91332fffb76b",
   "metadata": {},
   "outputs": [
    {
     "name": "stdout",
     "output_type": "stream",
     "text": [
      "!!!This is Classical result!!!\n",
      "generator status ['active' 'inactive' 'active' 'active' 'active']\n",
      "!!!This is Classical result!!!\n",
      "Active Lines:\n",
      "(1, 2)\n",
      "(2, 4)\n",
      "(3, 4)\n",
      "(4, 7)\n",
      "(5, 6)\n",
      "(6, 11)\n",
      "(7, 8)\n",
      "(7, 9)\n",
      "(12, 13)\n",
      "(13, 14)\n",
      "The power generated by power plant 1 is 166.0 MWh\n",
      "The power generated by power plant 2 is 0.0 MWh\n",
      "The power generated by power plant 3 is 50.0 MWh\n",
      "The power generated by power plant 4 is 50.0 MWh\n",
      "The power generated by power plant 5 is 50.0 MWh\n",
      "total power generated is  316.0 MWh, and the demand is 323 MWh\n",
      "the total cost is 9515.0\n",
      "Time taken: 1.51 seconds\n"
     ]
    },
    {
     "data": {
      "image/png": "[encoded data removed]",
      "text/plain": [
       "<Figure size 640x480 with 1 Axes>"
      ]
     },
     "metadata": {},
     "output_type": "display_data"
    }
   ],
   "source": [
    "total_demand = 323 #fix the demand from the generators\n",
    "N = 2 # number of bins\n",
    "mode = \"classical\" #quantum for quantum solver, classical for classical solver\n",
    "main(N, total_demand, mode)"
   ]
  },
  {
   "cell_type": "code",
   "execution_count": 56,
   "id": "3dae9913-02a4-42ae-a184-efc47999bc2d",
   "metadata": {},
   "outputs": [
    {
     "name": "stdout",
     "output_type": "stream",
     "text": [
      "Quantum Task Summary\n",
      "{'arn:aws:braket:::device/quantum-simulator/amazon/tn1': {'shots': 17500, 'tasks': {'COMPLETED': 118}, 'execution_duration': datetime.timedelta(seconds=970, microseconds=252000), 'billed_execution_duration': datetime.timedelta(seconds=1041, microseconds=411000)}}\n",
      "Note: Charges shown are estimates based on your Amazon Braket simulator and quantum processing unit (QPU) task usage. Estimated charges shown may differ from your actual charges. Estimated charges do not factor in any discounts or credits, and you may experience additional charges based on your use of other services such as Amazon Elastic Compute Cloud (Amazon EC2).\n",
      "Estimated cost to run this example: 4.77 USD\n"
     ]
    }
   ],
   "source": [
    "print(\"Quantum Task Summary\")\n",
    "print(t.quantum_tasks_statistics())\n",
    "print('Note: Charges shown are estimates based on your Amazon Braket simulator and quantum processing unit (QPU) task usage. Estimated charges shown may differ from your actual charges. Estimated charges do not factor in any discounts or credits, and you may experience additional charges based on your use of other services such as Amazon Elastic Compute Cloud (Amazon EC2).')\n",
    "print(f\"Estimated cost to run this example: {t.qpu_tasks_cost() + t.simulator_tasks_cost():.2f} USD\")"
   ]
  }
 ],
 "metadata": {
  "kernelspec": {
   "display_name": "Python 3 (ipykernel)",
   "language": "python",
   "name": "python3"
  },
  "language_info": {
   "codemirror_mode": {
    "name": "ipython",
    "version": 3
   },
   "file_extension": ".py",
   "mimetype": "text/x-python",
   "name": "python",
   "nbconvert_exporter": "python",
   "pygments_lexer": "ipython3",
   "version": "3.12.2"
  }
 },
 "nbformat": 4,
 "nbformat_minor": 5
}
