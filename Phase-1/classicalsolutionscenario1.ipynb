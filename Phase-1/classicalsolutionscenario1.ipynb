{
 "cells": [
  {
   "cell_type": "code",
   "execution_count": 65,
   "id": "124bf985",
   "metadata": {},
   "outputs": [],
   "source": [
    "import numpy as np\n",
    "from scipy.optimize import minimize"
   ]
  },
  {
   "cell_type": "code",
   "execution_count": 66,
   "id": "0fa58b96",
   "metadata": {},
   "outputs": [],
   "source": [
    "#Number of buses and lines\n",
    "num_buses = 14\n",
    "num_lines = 20\n",
    "\n",
    "#incidence matrix\n",
    "incidence_matrix = np.zeros((num_buses, num_lines))\n",
    "\n",
    "#transmission lines\n",
    "lines = [(1, 2), (1, 5), (2,3), (2,4), (2,5), (3,4),(4,5), (4,7), (4,9), (5,6), (6,11)\n",
    "        ,(6,12), (6,13), (7,8), (7,9), (9,10), (9,14), (10,11), (12,13), (13,14)]\n",
    "\n",
    "for line_idx, (from_bus, to_bus) in enumerate(lines):\n",
    "    incidence_matrix[from_bus - 1, line_idx] = 1  # \"from\" bus\n",
    "    incidence_matrix[to_bus - 1, line_idx] = -1   # \"to\" bus"
   ]
  },
  {
   "cell_type": "code",
   "execution_count": 67,
   "id": "64c61347",
   "metadata": {},
   "outputs": [],
   "source": [
    "num_buses = num_buses\n",
    "Generator_number = [1,2,3,6,8]\n",
    "num_generator = len(Generator_number)\n",
    "#admittance matrix\n",
    "Y = np.zeros((num_buses, num_buses), dtype=complex)\n",
    "\n",
    "# Specified line parameters (example values)\n",
    "specified_lines = lines\n",
    "specified_R = [0.01938, 0.05403, 0.04699, 0.05811, 0.05695, 0.06701, 0.01335, 0, 0, 0, 0.09498, 0.12291\n",
    "              ,0.06615, 0, 0, 0.03181, 0.12711, 0.08205, 0.22092, 0.17093]\n",
    "specified_X = [0.05917, 0.22304, 0.19797, 0.17632, 0.17388, 0.17103, 0.04211, 0.20912, 0.55618, 0.25202\n",
    "              ,0.19890, 0.25581, 0.13027, 0.17615, 0.11001, 0.0845, 0.27038, 0.19207, 0.19988, 0.34802]\n",
    "specified_B = [0.0264, 0.0219, 0.0187, 0.0246, 0.017, 0.0173, 0.0064, 0, 0, 0, 0, 0, 0, 0, 0, 0, 0, 0\n",
    "               , 0, 0]\n",
    "\n",
    "for (i, j), R_ij, X_ij, B_ij in zip(specified_lines, specified_R, specified_X, specified_B):\n",
    "    Z_ij = R_ij + 1j * X_ij\n",
    "    Y_ch_ij = 1j * B_ij\n",
    "    Y[i-1, i-1] += Y_ch_ij\n",
    "    Y[i-1, j-1] -= 1 / Z_ij\n",
    "    Y[j-1, i-1] = np.conj(Y[i-1, j-1])"
   ]
  },
  {
   "cell_type": "code",
   "execution_count": 68,
   "id": "4f2ce4e7",
   "metadata": {},
   "outputs": [],
   "source": [
    "G = np.real(Y)\n",
    "B = np.imag(Y)"
   ]
  },
  {
   "cell_type": "code",
   "execution_count": 69,
   "id": "dc84bae6",
   "metadata": {},
   "outputs": [
    {
     "name": "stdout",
     "output_type": "stream",
     "text": [
      "Real parts of Voltage: [1.06       1.04105107 0.98519291 1.00122961 1.00757993 1.03721071\n",
      " 1.03279425 1.06050356 1.02024282 1.01471546 1.02188959 1.01887451\n",
      " 1.01384426 0.99529582]\n",
      "Imaginary parts of Voltage: [ 0.         -0.0907616  -0.22247456 -0.18218533 -0.15550986 -0.26285727\n",
      " -0.24527686 -0.2518575  -0.27219985 -0.27373805 -0.26981553 -0.2744461\n",
      " -0.27462331 -0.28602825]\n"
     ]
    }
   ],
   "source": [
    "V_magnitudes = [1.06, 1.045, 1.01, 1.01767, 1.01951, 1.07000, 1.06152, 1.09000, 1.05593, 1.05099, 1.05691\n",
    "               ,1.05519, 1.05038, 1.03558]  # Example magnitudes for buses 1, 2, 3\n",
    "theta_angles_degrees = [0, -4.9826, -12.725, -10.3128, -8.7738, -14.2209, -13.3596, -13.3596, -14.9385\n",
    "                       ,-15.0972, -14.7906, -15.0755, -15.1562, -16.0336]  # Example phase angles in degrees for buses 1, 2, 3\n",
    "\n",
    "theta_angles = np.deg2rad(theta_angles_degrees)\n",
    "\n",
    "real_v = np.zeros(len(V_magnitudes))\n",
    "imaginary_v = np.zeros(len(V_magnitudes))\n",
    "\n",
    "for i in range(len(V_magnitudes)):\n",
    "    real_v[i] = V_magnitudes[i] * np.cos(theta_angles[i])\n",
    "    imaginary_v[i] = V_magnitudes[i] * np.sin(theta_angles[i])\n",
    "\n",
    "print(\"Real parts of Voltage:\", real_v)\n",
    "print(\"Imaginary parts of Voltage:\", imaginary_v)"
   ]
  },
  {
   "cell_type": "code",
   "execution_count": 70,
   "id": "62897906",
   "metadata": {},
   "outputs": [],
   "source": [
    "def calculate_phase_angle_difference(theta_i, theta_j):\n",
    "    return theta_i - theta_j\n",
    "\n",
    "theta_values = theta_angles_degrees\n",
    "\n",
    "theta_values_radians = np.deg2rad(theta_values)\n",
    "\n",
    "num_buses = len(theta_values)\n",
    "\n",
    "theta_ij_matrix = np.zeros((num_buses, num_buses))\n",
    "\n",
    "for i in range(num_buses):\n",
    "    for j in range(num_buses):\n",
    "        theta_ij_matrix[i, j] = calculate_phase_angle_difference(theta_values_radians[i], theta_values_radians[j])"
   ]
  },
  {
   "cell_type": "code",
   "execution_count": 71,
   "id": "fb02ac8d",
   "metadata": {},
   "outputs": [],
   "source": [
    "PDi = [0, 21.7, 94.2, 47.8, 7.6, 11.2, 0, 0, 29.5, 9.0, 3.5, 6.1, 13.5,14.9]\n",
    "QDi = [0, 12.7, 19.0, -3.9, 1.6, 7.5, 0, 0, 16.6, 5.8, 1.8, 1.6, 5.8, 5.0]\n",
    "MVArating = [140, 70, 60, 50, 50, 50, 50, 25, 20, 50, 20, 20, 20, 20, 40, 20, 20, 20, 20, 20]\n",
    "bounds_PG = [(0,332.4), (0, 140), (0, 100), (0, 100), (0, 100)]\n",
    "bounds_Vi = [(1.0388, 1.0812000000000002), (1.0241, 1.0658999999999998), (0.9898, 1.0302), (0.9973166000000001, 1.0380234000000002), (0.9991197999999999, 1.0399002), (1.0486, 1.0914000000000001), (1.0402896, 1.0827504000000001), (1.0682, 1.1118000000000001), (1.0348114, 1.0770486000000001), (1.0299702000000002, 1.0720098), (1.0357718, 1.0780482), (1.0340862, 1.0762938000000002), (1.0293724, 1.0713876000000002), (1.0148684, 1.0562916)]\n",
    "gi_up = [50, 20, 10, 10, 10]\n",
    "gi_down = [-50, -20, -10, -10, -10]\n",
    "a = [0.043, 0.25, 0.01, 0.01, 0.01]\n",
    "b = [20, 20, 40, 40, 40]\n",
    "c = [0, 0, 0, 0, 0]"
   ]
  },
  {
   "cell_type": "code",
   "execution_count": 73,
   "id": "3bd597f0",
   "metadata": {},
   "outputs": [
    {
     "name": "stdout",
     "output_type": "stream",
     "text": [
      "Optimal Generator Values (PGi): [ 0.         14.42229336 91.43414755  4.40640381  0.        ]\n",
      "Minimum Generation Cost (G(C)): 4257.8647550964815\n"
     ]
    }
   ],
   "source": [
    "def PQVIO(V, G, B, theta):\n",
    "    num_buses = len(V)\n",
    "    P = np.zeros(num_buses)\n",
    "    Q = np.zeros(num_buses)\n",
    "    \n",
    "    for i in range(num_buses):\n",
    "        for j in range(num_buses):\n",
    "            P[i] += V[i] * (V[j] * (G[i, j] * np.cos(theta[i, j]) + B[i, j] * np.sin(theta[i, j])))\n",
    "            Q[i] += V[i] * (V[j] * (G[i, j] * np.cos(theta[i, j]) - B[i, j] * np.sin(theta[i, j])))\n",
    "    return P, Q\n",
    "\n",
    "PQVO = PQVIO(V_magnitudes, G, B, theta_ij_matrix)\n",
    "P_constraint = PQVO[0] + PDi\n",
    "Q_constraint = PQVO[1] + QDi\n",
    "\n",
    "P_constraints = [P_constraint[i-1] for i in Generator_number]\n",
    "Q_constraints = [Q_constraint[i-1] for i in Generator_number]\n",
    "\n",
    "def objective_function(x):\n",
    "    PG = x[:num_generator]\n",
    "    G_C = sum(a[i] * PG[i]**2 + b[i] * PG[i] + c[i] for i in range(num_generator))  \n",
    "    return G_C \n",
    "\n",
    "def constraint_PG(x):\n",
    "    PG = x[:num_generator]\n",
    "    return [PG[i] - P_constraints[i] for i in range(num_generator)]\n",
    "\n",
    "def constraint_QG(x):\n",
    "    QG = x[:num_generator]\n",
    "    return [QG[i] - Q_constraints[i] for i in range(num_generator)]\n",
    "\n",
    "               \n",
    "constraints = [{'type': 'ineq', 'fun': constraint_PG},\n",
    "              {'type': 'ineq', 'fun': constraint_QG}]\n",
    "\n",
    "bounds = bounds_PG #+ bounds_Vi\n",
    "\n",
    "\n",
    "initial_guess = [30.0] * num_generator\n",
    "result = minimize(objective_function, initial_guess, bounds=bounds, constraints=constraints)\n",
    "\n",
    "optimal_PG = result.x[:num_generator]\n",
    "optimal_Vi = result.x[num_generator*4:]\n",
    "min_generation_cost = result.fun\n",
    "\n",
    "print(f\"Optimal Generator Values (PGi): {optimal_PG}\")\n",
    "print(f\"Minimum Generation Cost (G(C)): {min_generation_cost}\")"
   ]
  }
 ],
 "metadata": {
  "kernelspec": {
   "display_name": "Python 3 (ipykernel)",
   "language": "python",
   "name": "python3"
  },
  "language_info": {
   "codemirror_mode": {
    "name": "ipython",
    "version": 3
   },
   "file_extension": ".py",
   "mimetype": "text/x-python",
   "name": "python",
   "nbconvert_exporter": "python",
   "pygments_lexer": "ipython3",
   "version": "3.9.13"
  }
 },
 "nbformat": 4,
 "nbformat_minor": 5
}
