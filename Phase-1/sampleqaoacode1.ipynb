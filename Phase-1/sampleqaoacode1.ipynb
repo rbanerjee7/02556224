{
 "cells": [
  {
   "cell_type": "code",
   "execution_count": 40,
   "id": "7bd44acf",
   "metadata": {
    "tags": []
   },
   "outputs": [],
   "source": [
    "from braket.tracking import Tracker\n",
    "t = Tracker().start()"
   ]
  },
  {
   "cell_type": "code",
   "execution_count": 41,
   "id": "88ca6cbb-121f-42d1-9981-e703dc2b030f",
   "metadata": {
    "tags": []
   },
   "outputs": [],
   "source": [
    "from qiskit_braket_provider import BraketLocalBackend\n",
    "local_simulator = BraketLocalBackend()"
   ]
  },
  {
   "cell_type": "code",
   "execution_count": 42,
   "id": "a5fe7ed0-d09c-471b-8970-bda115e52d05",
   "metadata": {
    "tags": []
   },
   "outputs": [],
   "source": [
    "local_dm_simulator = BraketLocalBackend(name='braket_dm')"
   ]
  },
  {
   "cell_type": "code",
   "execution_count": 43,
   "id": "5347475d-daef-41e0-acc6-0ca3a5f5ed7b",
   "metadata": {
    "tags": []
   },
   "outputs": [
    {
     "data": {
      "text/plain": [
       "[BraketBackend[SV1], BraketBackend[TN1], BraketBackend[dm1]]"
      ]
     },
     "execution_count": 43,
     "metadata": {},
     "output_type": "execute_result"
    }
   ],
   "source": [
    "from qiskit_braket_provider import AWSBraketProvider\n",
    "\n",
    "provider = AWSBraketProvider()\n",
    "\n",
    "provider.backends(statuses=[\"ONLINE\"], types=[\"SIMULATOR\"])"
   ]
  },
  {
   "cell_type": "code",
   "execution_count": 44,
   "id": "006bcb64-84bd-4f19-8b8c-e004bef82c40",
   "metadata": {
    "tags": []
   },
   "outputs": [],
   "source": [
    "aws_tn1 = provider.get_backend(\"TN1\")"
   ]
  },
  {
   "cell_type": "code",
   "execution_count": 45,
   "id": "201c158f-3859-4af7-a3da-9aa7a51856b3",
   "metadata": {
    "tags": []
   },
   "outputs": [
    {
     "data": {
      "text/plain": [
       "[BraketBackend[Forte 1], BraketBackend[Harmony], BraketBackend[Lucy]]"
      ]
     },
     "execution_count": 45,
     "metadata": {},
     "output_type": "execute_result"
    }
   ],
   "source": [
    "provider.backends(statuses=[\"ONLINE\"], types=[\"QPU\"])"
   ]
  },
  {
   "cell_type": "code",
   "execution_count": 46,
   "id": "a8e3afcf-c9db-4058-92b8-15448fe090e9",
   "metadata": {
    "tags": []
   },
   "outputs": [
    {
     "name": "stdout",
     "output_type": "stream",
     "text": [
      "BraketBackend[Lucy]\n"
     ]
    }
   ],
   "source": [
    "# qpu_backend = provider.get_backend(\"Aspen-M-3\")\n",
    "#qpu_backend = provider.get_backend(\"Lucy\")\n",
    "#qpu_backend = provider.get_backend(\"Aria 1\")\n",
    "#qpu_backend = provider.get_backend(\"Forte 1\")\n",
    "qpu_backend = provider.get_backend(\"Lucy\")\n",
    "\n",
    "print(qpu_backend)"
   ]
  },
  {
   "cell_type": "code",
   "execution_count": 47,
   "id": "4733dfa6-44b7-4d73-b160-91bedb0f510f",
   "metadata": {
    "tags": []
   },
   "outputs": [],
   "source": [
    "from qiskit import QuantumCircuit, Aer, transpile, assemble\n",
    "from qiskit.visualization import plot_histogram\n",
    "import numpy as np"
   ]
  },
  {
   "cell_type": "code",
   "execution_count": 48,
   "id": "4137fa68",
   "metadata": {
    "tags": []
   },
   "outputs": [],
   "source": [
    "#the expression considered is of the form f(x,y) = ax^2 + bxy + cy^2 + dx + ey + f\n",
    "#where x is binary variable and y is a non- binary variable\n",
    "\n",
    "a = 1\n",
    "b = -2\n",
    "c = 2\n",
    "d = -1\n",
    "e = 1\n",
    "f = 0"
   ]
  },
  {
   "cell_type": "code",
   "execution_count": 49,
   "id": "813f39cf",
   "metadata": {
    "tags": []
   },
   "outputs": [
    {
     "data": {
      "text/plain": [
       "<qiskit.circuit.instructionset.InstructionSet at 0x7fd23d304040>"
      ]
     },
     "execution_count": 49,
     "metadata": {},
     "output_type": "execute_result"
    }
   ],
   "source": [
    "#Defining number of qubits for each variable\n",
    "n_qubits_x = 2  # For binary variable x\n",
    "n_qubits_y = 3  # For non-binary variable y\n",
    "\n",
    "#Creating the QAOA quantum circuit\n",
    "p = 1  # Number of adiabatic steps\n",
    "qaoa_circuit = QuantumCircuit(n_qubits_x + n_qubits_y, n_qubits_x + n_qubits_y)\n",
    "\n",
    "# Applying Hadamard gate to all qubits\n",
    "qaoa_circuit.h(range(n_qubits_x + n_qubits_y))\n",
    "\n",
    "# Applying X and Z rotations according to the cost function\n",
    "qaoa_circuit.rx(2 * a * p, range(n_qubits_x))\n",
    "qaoa_circuit.rz(2 * b * p, range(n_qubits_x, n_qubits_x + n_qubits_y))\n",
    "qaoa_circuit.rx(2 * c * p, range(n_qubits_x + n_qubits_y))\n",
    "qaoa_circuit.rz(2 * d * p, range(n_qubits_x))\n",
    "qaoa_circuit.rz(2 * e * p, range(n_qubits_x, n_qubits_x + n_qubits_y))\n",
    "\n",
    "# Measuring qubits for both x and y\n",
    "qaoa_circuit.measure(range(n_qubits_x + n_qubits_y), range(n_qubits_x + n_qubits_y))"
   ]
  },
  {
   "cell_type": "code",
   "execution_count": 57,
   "id": "d4856cfd",
   "metadata": {
    "tags": []
   },
   "outputs": [
    {
     "name": "stdout",
     "output_type": "stream",
     "text": [
      "Measurement results: <bound method Result.get_counts of Result(backend_name='BraketBackend[Lucy]', backend_version='2', qobj_id='0', job_id='arn:aws:braket:eu-west-2:891377090278:quantum-task/f9f71c6a-5bd2-4f08-805a-4f1743d23223', success=True, results=[ExperimentResult(shots=1000, success=True, meas_level=2, data=ExperimentResultData(counts={'00000': 11, '10000': 27, '01000': 27, '11000': 31, '00100': 32, '10100': 35, '01100': 38, '11100': 68, '00010': 11, '10010': 15, '01010': 23, '11010': 44, '00110': 19, '10110': 40, '01110': 35, '11110': 43, '00001': 12, '10001': 20, '01001': 22, '11001': 44, '00101': 28, '10101': 48, '01101': 48, '11101': 53, '00011': 11, '10011': 17, '01011': 28, '11011': 41, '00111': 23, '10111': 22, '01111': 36, '11111': 48}, memory=['00000', '00000', '00000', '00000', '00000', '00000', '00000', '00000', '00000', '00000', '00000', '10000', '10000', '10000', '10000', '10000', '10000', '10000', '10000', '10000', '10000', '10000', '10000', '10000', '10000', '10000', '10000', '10000', '10000', '10000', '10000', '10000', '10000', '10000', '10000', '10000', '10000', '10000', '01000', '01000', '01000', '01000', '01000', '01000', '01000', '01000', '01000', '01000', '01000', '01000', '01000', '01000', '01000', '01000', '01000', '01000', '01000', '01000', '01000', '01000', '01000', '01000', '01000', '01000', '01000', '11000', '11000', '11000', '11000', '11000', '11000', '11000', '11000', '11000', '11000', '11000', '11000', '11000', '11000', '11000', '11000', '11000', '11000', '11000', '11000', '11000', '11000', '11000', '11000', '11000', '11000', '11000', '11000', '11000', '11000', '11000', '00100', '00100', '00100', '00100', '00100', '00100', '00100', '00100', '00100', '00100', '00100', '00100', '00100', '00100', '00100', '00100', '00100', '00100', '00100', '00100', '00100', '00100', '00100', '00100', '00100', '00100', '00100', '00100', '00100', '00100', '00100', '00100', '10100', '10100', '10100', '10100', '10100', '10100', '10100', '10100', '10100', '10100', '10100', '10100', '10100', '10100', '10100', '10100', '10100', '10100', '10100', '10100', '10100', '10100', '10100', '10100', '10100', '10100', '10100', '10100', '10100', '10100', '10100', '10100', '10100', '10100', '10100', '01100', '01100', '01100', '01100', '01100', '01100', '01100', '01100', '01100', '01100', '01100', '01100', '01100', '01100', '01100', '01100', '01100', '01100', '01100', '01100', '01100', '01100', '01100', '01100', '01100', '01100', '01100', '01100', '01100', '01100', '01100', '01100', '01100', '01100', '01100', '01100', '01100', '01100', '11100', '11100', '11100', '11100', '11100', '11100', '11100', '11100', '11100', '11100', '11100', '11100', '11100', '11100', '11100', '11100', '11100', '11100', '11100', '11100', '11100', '11100', '11100', '11100', '11100', '11100', '11100', '11100', '11100', '11100', '11100', '11100', '11100', '11100', '11100', '11100', '11100', '11100', '11100', '11100', '11100', '11100', '11100', '11100', '11100', '11100', '11100', '11100', '11100', '11100', '11100', '11100', '11100', '11100', '11100', '11100', '11100', '11100', '11100', '11100', '11100', '11100', '11100', '11100', '11100', '11100', '11100', '11100', '00010', '00010', '00010', '00010', '00010', '00010', '00010', '00010', '00010', '00010', '00010', '10010', '10010', '10010', '10010', '10010', '10010', '10010', '10010', '10010', '10010', '10010', '10010', '10010', '10010', '10010', '01010', '01010', '01010', '01010', '01010', '01010', '01010', '01010', '01010', '01010', '01010', '01010', '01010', '01010', '01010', '01010', '01010', '01010', '01010', '01010', '01010', '01010', '01010', '11010', '11010', '11010', '11010', '11010', '11010', '11010', '11010', '11010', '11010', '11010', '11010', '11010', '11010', '11010', '11010', '11010', '11010', '11010', '11010', '11010', '11010', '11010', '11010', '11010', '11010', '11010', '11010', '11010', '11010', '11010', '11010', '11010', '11010', '11010', '11010', '11010', '11010', '11010', '11010', '11010', '11010', '11010', '11010', '00110', '00110', '00110', '00110', '00110', '00110', '00110', '00110', '00110', '00110', '00110', '00110', '00110', '00110', '00110', '00110', '00110', '00110', '00110', '10110', '10110', '10110', '10110', '10110', '10110', '10110', '10110', '10110', '10110', '10110', '10110', '10110', '10110', '10110', '10110', '10110', '10110', '10110', '10110', '10110', '10110', '10110', '10110', '10110', '10110', '10110', '10110', '10110', '10110', '10110', '10110', '10110', '10110', '10110', '10110', '10110', '10110', '10110', '10110', '01110', '01110', '01110', '01110', '01110', '01110', '01110', '01110', '01110', '01110', '01110', '01110', '01110', '01110', '01110', '01110', '01110', '01110', '01110', '01110', '01110', '01110', '01110', '01110', '01110', '01110', '01110', '01110', '01110', '01110', '01110', '01110', '01110', '01110', '01110', '11110', '11110', '11110', '11110', '11110', '11110', '11110', '11110', '11110', '11110', '11110', '11110', '11110', '11110', '11110', '11110', '11110', '11110', '11110', '11110', '11110', '11110', '11110', '11110', '11110', '11110', '11110', '11110', '11110', '11110', '11110', '11110', '11110', '11110', '11110', '11110', '11110', '11110', '11110', '11110', '11110', '11110', '11110', '00001', '00001', '00001', '00001', '00001', '00001', '00001', '00001', '00001', '00001', '00001', '00001', '10001', '10001', '10001', '10001', '10001', '10001', '10001', '10001', '10001', '10001', '10001', '10001', '10001', '10001', '10001', '10001', '10001', '10001', '10001', '10001', '01001', '01001', '01001', '01001', '01001', '01001', '01001', '01001', '01001', '01001', '01001', '01001', '01001', '01001', '01001', '01001', '01001', '01001', '01001', '01001', '01001', '01001', '11001', '11001', '11001', '11001', '11001', '11001', '11001', '11001', '11001', '11001', '11001', '11001', '11001', '11001', '11001', '11001', '11001', '11001', '11001', '11001', '11001', '11001', '11001', '11001', '11001', '11001', '11001', '11001', '11001', '11001', '11001', '11001', '11001', '11001', '11001', '11001', '11001', '11001', '11001', '11001', '11001', '11001', '11001', '11001', '00101', '00101', '00101', '00101', '00101', '00101', '00101', '00101', '00101', '00101', '00101', '00101', '00101', '00101', '00101', '00101', '00101', '00101', '00101', '00101', '00101', '00101', '00101', '00101', '00101', '00101', '00101', '00101', '10101', '10101', '10101', '10101', '10101', '10101', '10101', '10101', '10101', '10101', '10101', '10101', '10101', '10101', '10101', '10101', '10101', '10101', '10101', '10101', '10101', '10101', '10101', '10101', '10101', '10101', '10101', '10101', '10101', '10101', '10101', '10101', '10101', '10101', '10101', '10101', '10101', '10101', '10101', '10101', '10101', '10101', '10101', '10101', '10101', '10101', '10101', '10101', '01101', '01101', '01101', '01101', '01101', '01101', '01101', '01101', '01101', '01101', '01101', '01101', '01101', '01101', '01101', '01101', '01101', '01101', '01101', '01101', '01101', '01101', '01101', '01101', '01101', '01101', '01101', '01101', '01101', '01101', '01101', '01101', '01101', '01101', '01101', '01101', '01101', '01101', '01101', '01101', '01101', '01101', '01101', '01101', '01101', '01101', '01101', '01101', '11101', '11101', '11101', '11101', '11101', '11101', '11101', '11101', '11101', '11101', '11101', '11101', '11101', '11101', '11101', '11101', '11101', '11101', '11101', '11101', '11101', '11101', '11101', '11101', '11101', '11101', '11101', '11101', '11101', '11101', '11101', '11101', '11101', '11101', '11101', '11101', '11101', '11101', '11101', '11101', '11101', '11101', '11101', '11101', '11101', '11101', '11101', '11101', '11101', '11101', '11101', '11101', '11101', '00011', '00011', '00011', '00011', '00011', '00011', '00011', '00011', '00011', '00011', '00011', '10011', '10011', '10011', '10011', '10011', '10011', '10011', '10011', '10011', '10011', '10011', '10011', '10011', '10011', '10011', '10011', '10011', '01011', '01011', '01011', '01011', '01011', '01011', '01011', '01011', '01011', '01011', '01011', '01011', '01011', '01011', '01011', '01011', '01011', '01011', '01011', '01011', '01011', '01011', '01011', '01011', '01011', '01011', '01011', '01011', '11011', '11011', '11011', '11011', '11011', '11011', '11011', '11011', '11011', '11011', '11011', '11011', '11011', '11011', '11011', '11011', '11011', '11011', '11011', '11011', '11011', '11011', '11011', '11011', '11011', '11011', '11011', '11011', '11011', '11011', '11011', '11011', '11011', '11011', '11011', '11011', '11011', '11011', '11011', '11011', '11011', '00111', '00111', '00111', '00111', '00111', '00111', '00111', '00111', '00111', '00111', '00111', '00111', '00111', '00111', '00111', '00111', '00111', '00111', '00111', '00111', '00111', '00111', '00111', '10111', '10111', '10111', '10111', '10111', '10111', '10111', '10111', '10111', '10111', '10111', '10111', '10111', '10111', '10111', '10111', '10111', '10111', '10111', '10111', '10111', '10111', '01111', '01111', '01111', '01111', '01111', '01111', '01111', '01111', '01111', '01111', '01111', '01111', '01111', '01111', '01111', '01111', '01111', '01111', '01111', '01111', '01111', '01111', '01111', '01111', '01111', '01111', '01111', '01111', '01111', '01111', '01111', '01111', '01111', '01111', '01111', '01111', '11111', '11111', '11111', '11111', '11111', '11111', '11111', '11111', '11111', '11111', '11111', '11111', '11111', '11111', '11111', '11111', '11111', '11111', '11111', '11111', '11111', '11111', '11111', '11111', '11111', '11111', '11111', '11111', '11111', '11111', '11111', '11111', '11111', '11111', '11111', '11111', '11111', '11111', '11111', '11111', '11111', '11111', '11111', '11111', '11111', '11111', '11111', '11111']), status=COMPLETED)], date=None, status=JobStatus.DONE, header=None)>\n"
     ]
    }
   ],
   "source": [
    "# Simulating the quantum circuit\n",
    "backend = qpu_backend\n",
    "shots = 1000\n",
    "t_qaoa = transpile(qaoa_circuit, backend)\n",
    "#qobj = assemble(t_qaoa, shots=shots)\n",
    "#result = backend.run(qobj).result()\n",
    "result = backend.run(t_qaoa, shots=shots).result()\n",
    "\n",
    "#counts = result.get_counts(qaoa_circuit)\n",
    "counts = result.get_counts\n",
    "print(\"Measurement results:\", counts)"
   ]
  },
  {
   "cell_type": "code",
   "execution_count": 56,
   "id": "a0d3d22b",
   "metadata": {
    "tags": []
   },
   "outputs": [
    {
     "ename": "TypeError",
     "evalue": "'method' object is not iterable",
     "output_type": "error",
     "traceback": [
      "\u001b[0;31m---------------------------------------------------------------------------\u001b[0m",
      "\u001b[0;31mTypeError\u001b[0m                                 Traceback (most recent call last)",
      "Cell \u001b[0;32mIn[56], line 1\u001b[0m\n\u001b[0;32m----> 1\u001b[0m most_probable_solution_x \u001b[38;5;241m=\u001b[39m \u001b[38;5;28;43mmax\u001b[39;49m\u001b[43m(\u001b[49m\u001b[43mcounts\u001b[49m\u001b[43m,\u001b[49m\u001b[43m \u001b[49m\u001b[43mkey\u001b[49m\u001b[38;5;241;43m=\u001b[39;49m\u001b[43mcounts\u001b[49m\u001b[43m)\u001b[49m\n\u001b[1;32m      2\u001b[0m x_value \u001b[38;5;241m=\u001b[39m \u001b[38;5;28mint\u001b[39m(most_probable_solution_x[:n_qubits_x], \u001b[38;5;241m2\u001b[39m)\n\u001b[1;32m      4\u001b[0m most_probable_solution_y \u001b[38;5;241m=\u001b[39m \u001b[38;5;28mmax\u001b[39m(counts, key\u001b[38;5;241m=\u001b[39mcounts)[n_qubits_x:]\n",
      "\u001b[0;31mTypeError\u001b[0m: 'method' object is not iterable"
     ]
    }
   ],
   "source": [
    "most_probable_solution_x = max(counts, key=counts)\n",
    "x_value = int(most_probable_solution_x[:n_qubits_x], 2)\n",
    "\n",
    "most_probable_solution_y = max(counts, key=counts)[n_qubits_x:]\n",
    "y_value = int(most_probable_solution_y, 2)\n",
    "\n",
    "print(\"Most probable solution for x:\", x_value)\n",
    "print(\"Most probable solution for y:\", y_value)"
   ]
  },
  {
   "cell_type": "code",
   "execution_count": 51,
   "id": "d3d30375-98db-46e0-986e-0e7d0ae7b12b",
   "metadata": {
    "tags": []
   },
   "outputs": [
    {
     "name": "stdout",
     "output_type": "stream",
     "text": [
      "Quantum Task Summary\n",
      "{'arn:aws:braket:eu-west-2::device/qpu/oqc/Lucy': {'shots': 1000, 'tasks': {'COMPLETED': 1}}}\n",
      "Note: Charges shown are estimates based on your Amazon Braket simulator and quantum processing unit (QPU) task usage. Estimated charges shown may differ from your actual charges. Estimated charges do not factor in any discounts or credits, and you may experience additional charges based on your use of other services such as Amazon Elastic Compute Cloud (Amazon EC2).\n",
      "Estimated cost to run this example: 0.65 USD\n"
     ]
    }
   ],
   "source": [
    "print(\"Quantum Task Summary\")\n",
    "print(t.quantum_tasks_statistics())\n",
    "print('Note: Charges shown are estimates based on your Amazon Braket simulator and quantum processing unit (QPU) task usage. Estimated charges shown may differ from your actual charges. Estimated charges do not factor in any discounts or credits, and you may experience additional charges based on your use of other services such as Amazon Elastic Compute Cloud (Amazon EC2).')\n",
    "print(f\"Estimated cost to run this example: {t.qpu_tasks_cost() + t.simulator_tasks_cost():.2f} USD\")"
   ]
  },
  {
   "cell_type": "code",
   "execution_count": null,
   "id": "a0d15f79-517f-4917-b91e-40826580cd54",
   "metadata": {},
   "outputs": [],
   "source": []
  },
  {
   "cell_type": "code",
   "execution_count": null,
   "id": "7c2d256d-34a6-44f3-a0c1-a2e7405482ca",
   "metadata": {},
   "outputs": [],
   "source": []
  }
 ],
 "metadata": {
  "kernelspec": {
   "display_name": "conda_braket",
   "language": "python",
   "name": "conda_braket"
  },
  "language_info": {
   "codemirror_mode": {
    "name": "ipython",
    "version": 3
   },
   "file_extension": ".py",
   "mimetype": "text/x-python",
   "name": "python",
   "nbconvert_exporter": "python",
   "pygments_lexer": "ipython3",
   "version": "3.10.13"
  }
 },
 "nbformat": 4,
 "nbformat_minor": 5
}
